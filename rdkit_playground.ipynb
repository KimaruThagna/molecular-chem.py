{
  "nbformat": 4,
  "nbformat_minor": 0,
  "metadata": {
    "colab": {
      "name": "rdkit_playground.ipynb",
      "provenance": [],
      "authorship_tag": "ABX9TyMSzDnSe9rocmEVuEnbkPrM",
      "include_colab_link": true
    },
    "kernelspec": {
      "name": "python3",
      "display_name": "Python 3"
    }
  },
  "cells": [
    {
      "cell_type": "markdown",
      "metadata": {
        "id": "view-in-github",
        "colab_type": "text"
      },
      "source": [
        "<a href=\"https://colab.research.google.com/github/KimaruThagna/molecular-chem.py/blob/main/rdkit_playground.ipynb\" target=\"_parent\"><img src=\"https://colab.research.google.com/assets/colab-badge.svg\" alt=\"Open In Colab\"/></a>"
      ]
    },
    {
      "cell_type": "code",
      "metadata": {
        "colab": {
          "base_uri": "https://localhost:8080/"
        },
        "id": "fH8lOWxDdnMY",
        "outputId": "f0181cec-d11c-48e1-dfbe-f16c5c4ede82"
      },
      "source": [
        "# Install RDKit. \n",
        "!pip install kora\n",
        "import kora.install.rdkit"
      ],
      "execution_count": 1,
      "outputs": [
        {
          "output_type": "stream",
          "text": [
            "Collecting kora\n",
            "\u001b[?25l  Downloading https://files.pythonhosted.org/packages/55/e9/60b70219b513fce09cb839860689bc1421d31afe98da1517c81ff26fd741/kora-0.9.13-py3-none-any.whl (55kB)\n",
            "\r\u001b[K     |█████▉                          | 10kB 21.4MB/s eta 0:00:01\r\u001b[K     |███████████▊                    | 20kB 28.8MB/s eta 0:00:01\r\u001b[K     |█████████████████▋              | 30kB 15.4MB/s eta 0:00:01\r\u001b[K     |███████████████████████▍        | 40kB 10.9MB/s eta 0:00:01\r\u001b[K     |█████████████████████████████▎  | 51kB 7.0MB/s eta 0:00:01\r\u001b[K     |████████████████████████████████| 61kB 4.6MB/s \n",
            "\u001b[?25hRequirement already satisfied: ipython in /usr/local/lib/python3.6/dist-packages (from kora) (5.5.0)\n",
            "Collecting fastcore\n",
            "\u001b[?25l  Downloading https://files.pythonhosted.org/packages/5c/ad/7c358331783cf8220e1bd0cca52df3e6092b3f6d4ce5b837fffbc9a64c53/fastcore-1.3.12-py3-none-any.whl (51kB)\n",
            "\u001b[K     |████████████████████████████████| 61kB 5.5MB/s \n",
            "\u001b[?25hRequirement already satisfied: prompt-toolkit<2.0.0,>=1.0.4 in /usr/local/lib/python3.6/dist-packages (from ipython->kora) (1.0.18)\n",
            "Requirement already satisfied: decorator in /usr/local/lib/python3.6/dist-packages (from ipython->kora) (4.4.2)\n",
            "Requirement already satisfied: pygments in /usr/local/lib/python3.6/dist-packages (from ipython->kora) (2.6.1)\n",
            "Requirement already satisfied: pexpect; sys_platform != \"win32\" in /usr/local/lib/python3.6/dist-packages (from ipython->kora) (4.8.0)\n",
            "Requirement already satisfied: setuptools>=18.5 in /usr/local/lib/python3.6/dist-packages (from ipython->kora) (50.3.2)\n",
            "Requirement already satisfied: simplegeneric>0.8 in /usr/local/lib/python3.6/dist-packages (from ipython->kora) (0.8.1)\n",
            "Requirement already satisfied: pickleshare in /usr/local/lib/python3.6/dist-packages (from ipython->kora) (0.7.5)\n",
            "Requirement already satisfied: traitlets>=4.2 in /usr/local/lib/python3.6/dist-packages (from ipython->kora) (4.3.3)\n",
            "Requirement already satisfied: pip in /usr/local/lib/python3.6/dist-packages (from fastcore->kora) (19.3.1)\n",
            "Requirement already satisfied: packaging in /usr/local/lib/python3.6/dist-packages (from fastcore->kora) (20.7)\n",
            "Requirement already satisfied: wcwidth in /usr/local/lib/python3.6/dist-packages (from prompt-toolkit<2.0.0,>=1.0.4->ipython->kora) (0.2.5)\n",
            "Requirement already satisfied: six>=1.9.0 in /usr/local/lib/python3.6/dist-packages (from prompt-toolkit<2.0.0,>=1.0.4->ipython->kora) (1.15.0)\n",
            "Requirement already satisfied: ptyprocess>=0.5 in /usr/local/lib/python3.6/dist-packages (from pexpect; sys_platform != \"win32\"->ipython->kora) (0.6.0)\n",
            "Requirement already satisfied: ipython-genutils in /usr/local/lib/python3.6/dist-packages (from traitlets>=4.2->ipython->kora) (0.2.0)\n",
            "Requirement already satisfied: pyparsing>=2.0.2 in /usr/local/lib/python3.6/dist-packages (from packaging->fastcore->kora) (2.4.7)\n",
            "Installing collected packages: fastcore, kora\n",
            "Successfully installed fastcore-1.3.12 kora-0.9.13\n"
          ],
          "name": "stdout"
        }
      ]
    },
    {
      "cell_type": "code",
      "metadata": {
        "id": "YV8ipMCnduyd"
      },
      "source": [
        "from rdkit import Chem\n",
        "from rdkit.Chem import Draw\n",
        "from rdkit.Chem.Draw import IPythonConsole\n",
        "from rdkit.Chem import Descriptors\n",
        "from rdkit.Chem import AllChem\n",
        "from rdkit import DataStructs\n",
        "import numpy as np"
      ],
      "execution_count": 2,
      "outputs": []
    },
    {
      "cell_type": "code",
      "metadata": {
        "colab": {
          "base_uri": "https://localhost:8080/",
          "height": 167
        },
        "id": "O0-iIO5ieJde",
        "outputId": "7f7202b4-d1ce-4eb4-80d9-3f80e5335f0c"
      },
      "source": [
        "molecule = Chem.MolFromSmiles('CC') \n",
        "molecule\n",
        "# SMILES(simplified Molecular input Line Entry System) notation for ethane. methane would be C and butane would be CCCC"
      ],
      "execution_count": 5,
      "outputs": [
        {
          "output_type": "execute_result",
          "data": {
            "image/png": "[encoded data removed]",
            "text/plain": [
              "<rdkit.Chem.rdchem.Mol at 0x7fcb680b7800>"
            ]
          },
          "metadata": {
            "tags": []
          },
          "execution_count": 5
        }
      ]
    },
    {
      "cell_type": "code",
      "metadata": {
        "colab": {
          "base_uri": "https://localhost:8080/",
          "height": 35
        },
        "id": "lyqksowQeyWG",
        "outputId": "1f68ea60-50f4-45c0-c9c3-bb1afdb15706"
      },
      "source": [
        "#smiles equivalent\n",
        "Chem.MolToSmiles(molecule)"
      ],
      "execution_count": 6,
      "outputs": [
        {
          "output_type": "execute_result",
          "data": {
            "application/vnd.google.colaboratory.intrinsic+json": {
              "type": "string"
            },
            "text/plain": [
              "'CCCC'"
            ]
          },
          "metadata": {
            "tags": []
          },
          "execution_count": 6
        }
      ]
    },
    {
      "cell_type": "markdown",
      "metadata": {
        "id": "zTeB6z5XfETZ"
      },
      "source": [
        "The **molecule** object has further methods such as descriptors that can be used to identify various properties of the molecule"
      ]
    },
    {
      "cell_type": "code",
      "metadata": {
        "colab": {
          "base_uri": "https://localhost:8080/"
        },
        "id": "8dYuUCQhfQu9",
        "outputId": "36a8eb6e-79db-481a-b023-35fe8ea2fc89"
      },
      "source": [
        "#molecular weight\n",
        "weight = Descriptors.ExactMolWt(molecule)\n",
        "weight\n"
      ],
      "execution_count": 11,
      "outputs": [
        {
          "output_type": "execute_result",
          "data": {
            "text/plain": [
              "58.123999999999995"
            ]
          },
          "metadata": {
            "tags": []
          },
          "execution_count": 11
        }
      ]
    },
    {
      "cell_type": "markdown",
      "metadata": {
        "id": "mFKU8GYcf_SE"
      },
      "source": [
        "Drawing the molecular structure"
      ]
    },
    {
      "cell_type": "code",
      "metadata": {
        "colab": {
          "base_uri": "https://localhost:8080/"
        },
        "id": "qM1_5WUNgC-h",
        "outputId": "1b27abcd-de9c-43a2-fd75-5deee51e78ab"
      },
      "source": [
        "# SMILES for glycine oxytocin and phenylalanine\n",
        "smiles_list = ['C(C(=O)O)N',\n",
        "               'CC[C@H](C)[C@@H]1NC(=O)[C@H](Cc2ccc(O)cc2)NC(=O)[C@@H](N)CSSC[C@H](NC(=O)[C@H](CC(N)=O)NC(=O)[C@H](CCC(N)=O)NC1=O)C(=O)N3CCC[C@H]3C(=O)N[C@@H](CC(C)C)C(=O)NCC(N)=O','N[C@@H](CC1=CC=CC=C1)C(O)=O']\n",
        "molecule_list = []\n",
        "# convert to mol object\n",
        "[molecule_list.append(Chem.MolFromSmiles(smile))for smile in smiles_list]\n",
        "molecule_list # rdkit object representation of the smiles\n",
        "# draw and display some properties\n",
        "weights = []\n",
        "[weights.append(Descriptors.MolWt(mol)) for mol in molecule_list]\n",
        "weights\n",
        "\n",
        "\n"
      ],
      "execution_count": 19,
      "outputs": [
        {
          "output_type": "execute_result",
          "data": {
            "text/plain": [
              "[75.06700000000001, 1007.2069999999994, 165.19199999999995]"
            ]
          },
          "metadata": {
            "tags": []
          },
          "execution_count": 19
        }
      ]
    },
    {
      "cell_type": "code",
      "metadata": {
        "colab": {
          "base_uri": "https://localhost:8080/",
          "height": 217
        },
        "id": "IjIHQzCIjBLh",
        "outputId": "b1ad84d5-0589-42e8-ff38-5fbb8ddcdc2c"
      },
      "source": [
        "img = Draw.MolsToGridImage(molecule_list)\n",
        "img"
      ],
      "execution_count": 20,
      "outputs": [
        {
          "output_type": "execute_result",
          "data": {
            "image/png": "[encoded data removed]",
            "text/plain": [
              "<PIL.PngImagePlugin.PngImageFile image mode=RGB size=600x200 at 0x7FCB603026D8>"
            ]
          },
          "metadata": {
            "tags": []
          },
          "execution_count": 20
        }
      ]
    },
    {
      "cell_type": "markdown",
      "metadata": {
        "id": "5nWTpOVajLtj"
      },
      "source": [
        "Substructure search. Looking for molecules with a certain SMILES substructure"
      ]
    },
    {
      "cell_type": "code",
      "metadata": {
        "colab": {
          "base_uri": "https://localhost:8080/"
        },
        "id": "2PyENZF-jTgY",
        "outputId": "9a4ecb15-10b5-4f90-8443-410ad335201f"
      },
      "source": [
        "pattern = Chem.MolFromSmiles('C(=O)O')\n",
        "for mol in molecule_list:\n",
        "  print(mol.HasSubstructMatch(pattern))"
      ],
      "execution_count": 23,
      "outputs": [
        {
          "output_type": "stream",
          "text": [
            "True\n",
            "False\n",
            "True\n"
          ],
          "name": "stdout"
        }
      ]
    }
  ]
}